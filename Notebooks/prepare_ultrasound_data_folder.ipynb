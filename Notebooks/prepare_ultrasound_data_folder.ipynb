{
  "nbformat": 4,
  "nbformat_minor": 0,
  "metadata": {
    "colab": {
      "provenance": []
    },
    "kernelspec": {
      "name": "python3",
      "display_name": "Python 3"
    },
    "language_info": {
      "name": "python"
    }
  },
  "cells": [
    {
      "cell_type": "markdown",
      "source": [
        "# Prepare data folder\n"
      ],
      "metadata": {
        "id": "obbTOhuoMn0N"
      }
    },
    {
      "cell_type": "code",
      "source": [
        "from google.colab import drive\n",
        "drive.mount('/content/drive')"
      ],
      "metadata": {
        "colab": {
          "base_uri": "https://localhost:8080/"
        },
        "id": "JeGtNlcxJ33J",
        "outputId": "ce7b5628-b32b-4274-f76d-c6e43eca7697"
      },
      "execution_count": null,
      "outputs": [
        {
          "output_type": "stream",
          "name": "stdout",
          "text": [
            "Drive already mounted at /content/drive; to attempt to forcibly remount, call drive.mount(\"/content/drive\", force_remount=True).\n"
          ]
        }
      ]
    },
    {
      "cell_type": "code",
      "source": [
        "from zipfile import ZipFile\n",
        "\n",
        "# Set the path to the zip file in your Google Drive\n",
        "zip_path = '/content/drive/MyDrive/senior_project/data/ultrasound.zip'\n",
        "\n",
        "# Set the path to the folder where you want to extract the files\n",
        "extract_path = '/content/drive/MyDrive/senior_project/ult_data'\n",
        "\n",
        "# Open the zip file\n",
        "with ZipFile(zip_path, 'r') as zip:\n",
        "    # Extract all the files to the specified folder\n",
        "    zip.extractall(extract_path)\n"
      ],
      "metadata": {
        "id": "mjlC-PgvJ8BC"
      },
      "execution_count": null,
      "outputs": []
    },
    {
      "cell_type": "code",
      "source": [
        "!ls /content/drive/MyDrive/senior_project/ult_data/Dataset_BUSI_with_GT"
      ],
      "metadata": {
        "colab": {
          "base_uri": "https://localhost:8080/"
        },
        "id": "fxH9NjFUKcDs",
        "outputId": "b27382e7-fe6d-4e30-e539-1064e5b6c891"
      },
      "execution_count": null,
      "outputs": [
        {
          "output_type": "stream",
          "name": "stdout",
          "text": [
            "benign\tmalignant  normal\n"
          ]
        }
      ]
    },
    {
      "cell_type": "code",
      "source": [
        "import os\n",
        "\n",
        "path = \"/content/drive/MyDrive/senior_project/ult_data/Dataset_BUSI_with_GT/benign\"\n",
        "\n",
        "count = 0\n",
        "for file in os.listdir(path):\n",
        "    if file.endswith(\".png\") and \"mask\" not in file:\n",
        "        count += 1\n",
        "\n",
        "print(\"Number of PNG files without 'mask' in filename:\", count)\n"
      ],
      "metadata": {
        "colab": {
          "base_uri": "https://localhost:8080/"
        },
        "id": "-wdy4bpdKqlh",
        "outputId": "1f2aefd1-c277-4ffa-be42-43b858aef920"
      },
      "execution_count": null,
      "outputs": [
        {
          "output_type": "stream",
          "name": "stdout",
          "text": [
            "Number of PNG files without 'mask' in filename: 437\n"
          ]
        }
      ]
    },
    {
      "cell_type": "code",
      "source": [
        "import os\n",
        "\n",
        "path = \"/content/drive/MyDrive/senior_project/ult_data/Dataset_BUSI_with_GT/malignant\"\n",
        "\n",
        "count = 0\n",
        "for file in os.listdir(path):\n",
        "    if file.endswith(\".png\") and \"mask\" not in file:\n",
        "        count += 1\n",
        "\n",
        "print(\"Number of PNG files without 'mask' in filename:\", count)"
      ],
      "metadata": {
        "colab": {
          "base_uri": "https://localhost:8080/"
        },
        "id": "C4Qfx_uRLGUO",
        "outputId": "cc99045b-54cb-44bd-b6ed-9d6668d92b23"
      },
      "execution_count": null,
      "outputs": [
        {
          "output_type": "stream",
          "name": "stdout",
          "text": [
            "Number of PNG files without 'mask' in filename: 210\n"
          ]
        }
      ]
    },
    {
      "cell_type": "code",
      "source": [
        "import os\n",
        "\n",
        "path = \"/content/drive/MyDrive/senior_project/ult_data/Dataset_BUSI_with_GT/normal\"\n",
        "\n",
        "count = 0\n",
        "for file in os.listdir(path):\n",
        "    if file.endswith(\".png\") and \"mask\" not in file:\n",
        "        count += 1\n",
        "\n",
        "print(\"Number of PNG files without 'mask' in filename:\", count)"
      ],
      "metadata": {
        "colab": {
          "base_uri": "https://localhost:8080/"
        },
        "id": "B2LhaRzhLPfo",
        "outputId": "08690f9d-46a1-4d6b-cf9a-92c1060805ef"
      },
      "execution_count": null,
      "outputs": [
        {
          "output_type": "stream",
          "name": "stdout",
          "text": [
            "Number of PNG files without 'mask' in filename: 133\n"
          ]
        }
      ]
    },
    {
      "cell_type": "code",
      "source": [
        "import os\n",
        "import shutil\n",
        "\n",
        "source_dir = \"/content/drive/MyDrive/senior_project/ult_data/Dataset_BUSI_with_GT/benign\"\n",
        "target_dir = \"/content/drive/MyDrive/senior_project/ult_data/benign\"\n",
        "\n",
        "if not os.path.exists(target_dir):\n",
        "    os.makedirs(target_dir)\n",
        "\n",
        "for filename in os.listdir(source_dir):\n",
        "    if filename.endswith(\".png\") and \"mask\" not in filename:\n",
        "        src_file = os.path.join(source_dir, filename)\n",
        "        dst_file = os.path.join(target_dir, filename)\n",
        "        shutil.copy(src_file, dst_file)"
      ],
      "metadata": {
        "id": "3etN_veOLTmN"
      },
      "execution_count": null,
      "outputs": []
    },
    {
      "cell_type": "code",
      "source": [
        "import os\n",
        "\n",
        "directory = \"/content/drive/MyDrive/senior_project/ult_data/benign\"\n",
        "count = 0\n",
        "\n",
        "for filename in os.listdir(directory):\n",
        "    if os.path.isfile(os.path.join(directory, filename)):\n",
        "        count += 1\n",
        "\n",
        "print(\"Number of files in directory:\", count)\n"
      ],
      "metadata": {
        "colab": {
          "base_uri": "https://localhost:8080/"
        },
        "id": "PH8hVTb4MXTZ",
        "outputId": "dd572e01-993d-4180-a555-31101487860b"
      },
      "execution_count": null,
      "outputs": [
        {
          "output_type": "stream",
          "name": "stdout",
          "text": [
            "Number of files in directory: 437\n"
          ]
        }
      ]
    },
    {
      "cell_type": "code",
      "source": [
        "import os\n",
        "import shutil\n",
        "\n",
        "source_dir = \"/content/drive/MyDrive/senior_project/ult_data/Dataset_BUSI_with_GT/malignant\"\n",
        "target_dir = \"/content/drive/MyDrive/senior_project/ult_data/malignant\"\n",
        "\n",
        "if not os.path.exists(target_dir):\n",
        "    os.makedirs(target_dir)\n",
        "\n",
        "for filename in os.listdir(source_dir):\n",
        "    if filename.endswith(\".png\") and \"mask\" not in filename:\n",
        "        src_file = os.path.join(source_dir, filename)\n",
        "        dst_file = os.path.join(target_dir, filename)\n",
        "        shutil.copy(src_file, dst_file)\n",
        "\n",
        "import os\n",
        "\n",
        "count = 0\n",
        "\n",
        "for filename in os.listdir(target_dir):\n",
        "    if os.path.isfile(os.path.join(target_dir, filename)):\n",
        "        count += 1\n",
        "\n",
        "print(\"Number of files in directory:\", count)"
      ],
      "metadata": {
        "colab": {
          "base_uri": "https://localhost:8080/"
        },
        "id": "iVivJr67MljV",
        "outputId": "223858e9-eab6-4b91-8bb3-dc2caf4ea8d1"
      },
      "execution_count": null,
      "outputs": [
        {
          "output_type": "stream",
          "name": "stdout",
          "text": [
            "Number of files in directory: 210\n"
          ]
        }
      ]
    },
    {
      "cell_type": "code",
      "source": [
        "import os\n",
        "import shutil\n",
        "\n",
        "source_dir = \"/content/drive/MyDrive/senior_project/ult_data/Dataset_BUSI_with_GT/normal\"\n",
        "target_dir = \"/content/drive/MyDrive/senior_project/ult_data/normal\"\n",
        "\n",
        "if not os.path.exists(target_dir):\n",
        "    os.makedirs(target_dir)\n",
        "\n",
        "for filename in os.listdir(source_dir):\n",
        "    if filename.endswith(\".png\") and \"mask\" not in filename:\n",
        "        src_file = os.path.join(source_dir, filename)\n",
        "        dst_file = os.path.join(target_dir, filename)\n",
        "        shutil.copy(src_file, dst_file)\n",
        "\n",
        "import os\n",
        "\n",
        "count = 0\n",
        "\n",
        "for filename in os.listdir(target_dir):\n",
        "    if os.path.isfile(os.path.join(target_dir, filename)):\n",
        "        count += 1\n",
        "\n",
        "print(\"Number of files in directory:\", count)"
      ],
      "metadata": {
        "colab": {
          "base_uri": "https://localhost:8080/"
        },
        "id": "SMVRzc1VM3Mp",
        "outputId": "25c85aa5-8c1b-4146-e895-bdcf7e6542f5"
      },
      "execution_count": null,
      "outputs": [
        {
          "output_type": "stream",
          "name": "stdout",
          "text": [
            "Number of files in directory: 133\n"
          ]
        }
      ]
    },
    {
      "cell_type": "code",
      "source": [],
      "metadata": {
        "id": "V9DLR9pFM_Rm"
      },
      "execution_count": null,
      "outputs": []
    }
  ]
}